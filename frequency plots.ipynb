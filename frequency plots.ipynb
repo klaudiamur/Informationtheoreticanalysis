{
 "nbformat": 4,
 "nbformat_minor": 2,
 "metadata": {
  "language_info": {
   "name": "python",
   "codemirror_mode": {
    "name": "ipython",
    "version": 3
   },
   "version": "3.7.3-final"
  },
  "orig_nbformat": 2,
  "file_extension": ".py",
  "mimetype": "text/x-python",
  "name": "python",
  "npconvert_exporter": "python",
  "pygments_lexer": "ipython3",
  "version": 3,
  "kernelspec": {
   "name": "python37364bitac598cfa06254ff482c9ebb638bc9b61",
   "display_name": "Python 3.7.3 64-bit"
  }
 },
 "cells": [
  {
   "cell_type": "code",
   "execution_count": 3,
   "metadata": {},
   "outputs": [],
   "source": [
    "# Imports\n",
    "import re # Regex - Regular expressions for matching words/characters\n",
    "import json\n",
    "import timeit\n",
    "import numpy as np\n",
    "from scipy import sparse\n",
    "from collections import Counter\n",
    "import matplotlib.pyplot as plt\n",
    "from pylab import *\n",
    "from NDSparseTensor import NDSparseTensor"
   ]
  },
  {
   "cell_type": "code",
   "execution_count": 4,
   "metadata": {},
   "outputs": [],
   "source": [
    "def load(text_name):    \n",
    "    frequencies_loaded = {}\n",
    "    for m in range(1, 10):\n",
    "        with open(f'frequencies/{text_name} m{m}.json', 'r', encoding=\"utf8\") as f:\n",
    "            json_text = f.read()\n",
    "\n",
    "            frequencies_loaded[m] = NDSparseTensor.fromjson(json_text)\n",
    "\n",
    "    with open(f'frequencies/{text_name} unique symbols.json', 'r', encoding=\"utf-8\") as f:\n",
    "        unique_symbols = json.load(f)\n",
    "    return frequencies_loaded, unique_symbols"
   ]
  },
  {
   "cell_type": "code",
   "execution_count": 11,
   "metadata": {},
   "outputs": [],
   "source": [
    "texts = [\"Pride and Prejudice\", \"Nils Holgersson\", \"Moby Dick\", \"Emma\", \"Havsbadet\"]\n",
    "for text in texts[1:2]:\n",
    "    frequencies_loaded, unique_symbols = load(text)\n",
    "    frequencies = frequencies_loaded[1].normalize().todense()\n",
    "    indecies = np.argsort(frequencies)\n",
    "    indecies = indecies[:10:-1]\n",
    "    bar([unique_symbols[x] for x in indecies], frequencies[indecies])\n",
    "    title(f'Frequency distribution: {text}')\n",
    "\n",
    "    #savefig(f\"plot/Frequency {text}.png\")\n"
   ]
  },
  {
   "cell_type": "code",
   "execution_count": null,
   "metadata": {},
   "outputs": [],
   "source": []
  }
 ]
}