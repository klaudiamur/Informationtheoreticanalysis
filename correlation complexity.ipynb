{
 "nbformat": 4,
 "nbformat_minor": 2,
 "metadata": {
  "language_info": {
   "name": "python",
   "codemirror_mode": {
    "name": "ipython",
    "version": 3
   },
   "version": "3.7.3-final"
  },
  "orig_nbformat": 2,
  "file_extension": ".py",
  "mimetype": "text/x-python",
  "name": "python",
  "npconvert_exporter": "python",
  "pygments_lexer": "ipython3",
  "version": 3,
  "kernelspec": {
   "name": "python37332bitf45678ab2b4a4c2cb6665081849d642c",
   "display_name": "Python 3.7.3 32-bit"
  }
 },
 "cells": [
  {
   "cell_type": "markdown",
   "metadata": {},
   "source": [
    "# Correlation Complexity $\\eta$ \n",
    "$\\eta=\\sum_{m=1}^{\\infty}(m-1)k_m$  \n",
    "\n",
    "with  \n",
    "\n",
    "$k_m=\\sum_{\\sigma}p(\\sigma)K[P_0;P]=\\sum_{\\sigma_m}p(\\sigma_m) \\sum_{x_m}p(x_m | \\sigma_m)log(\\frac{p(x_m | \\sigma_m)}{p(x_m | \\sigma_{m-1})})$  \n",
    "\n",
    "$p(a|b) = \\frac{p(a \\& b)}{p(b)}$"
   ]
  },
  {
   "cell_type": "code",
   "execution_count": 27,
   "metadata": {},
   "outputs": [],
   "source": [
    "import json\n",
    "import numpy as np\n",
    "from NDSparseTensor import NDSparseTensor"
   ]
  },
  {
   "cell_type": "markdown",
   "metadata": {},
   "source": [
    "## Read a NDSparseMatrix"
   ]
  },
  {
   "cell_type": "code",
   "execution_count": 22,
   "metadata": {},
   "outputs": [],
   "source": [
    "frequencies_loaded = {}\n",
    "text_name = 'Pride and Prejudice'\n",
    "for m in range(1, 10):\n",
    "    with open(f'frequencies/{text_name} m{m}.json', 'r', encoding=\"utf8\") as f:\n",
    "        json_text = f.read()\n",
    "\n",
    "        frequencies_loaded[m] = NDSparseTensor.fromjson(json_text)\n",
    "\n",
    "with open(f'frequencies/{text_name} unique symbols.json', 'r', encoding=\"utf-8\") as f:\n",
    "    unique_symbols = json.load(f)"
   ]
  },
  {
   "cell_type": "markdown",
   "metadata": {},
   "source": [
    "Total number of symbolsequences recorded, $\\texttt{total}$\n",
    "\n",
    "$P(\\sigma_m)=\\frac{\\texttt{frequency of }\\sigma_m}{\\texttt{total}}$"
   ]
  },
  {
   "cell_type": "code",
   "execution_count": 369,
   "metadata": {},
   "outputs": [
    {
     "name": "stdout",
     "output_type": "stream",
     "text": "{1: 126221, 2: 126220, 3: 126219, 4: 126218, 5: 126217, 6: 126216, 7: 126215, 8: 126214, 9: 126213}\n"
    }
   ],
   "source": [
    "total = {}\n",
    "for m in range(1, 10):\n",
    "    tot = 0\n",
    "    for key, value in frequencies_loaded[m].getnonzero():\n",
    "        tot += value\n",
    "    total[m] = tot\n",
    "print(total)"
   ]
  },
  {
   "cell_type": "markdown",
   "metadata": {},
   "source": [
    "$p(x_m|\\sigma_{m-1}) = \\frac{p(\\sigma_{m-1})}{p(\\sigma'_{m-1})}$ with $\\sigma_{m} = x_1x_2...x_m$ and $\\sigma'_{m} = x_2x_3...x_m$"
   ]
  },
  {
   "cell_type": "markdown",
   "metadata": {},
   "source": []
  },
  {
   "cell_type": "code",
   "execution_count": 431,
   "metadata": {},
   "outputs": [
    {
     "data": {
      "text/plain": "'ELIZABETH WAS PLEASED THOUGH WHEN SHE ASKED HERSELF THE REASON SHE HAD VERY LITTLE TO SAY IN REPLY MR GARDINER LEFT THEM SOON AFTER BREAKFAST THE FISHING SCHEME HAD BEEN RENEWED THE DAY BEFORE AND A POSITIVE ENGAGEMENT MADE OF HIS MEETING SOME OF THE GENTLEMEN AT PEMBERLEY BEFORE NOON CHAPTER 45 CONVINCED AS ELIZABETH NOW WAS THAT MISS BINGLEY S DISLIKE OF HER HAD ORIGINATED IN JEALOUSY SHE COULD NOT HELP FEELING HOW UNWELCOME HER APPEARANCE AT PEMBERLEY MUST BE TO HER AND WAS CURIOUS TO KNOW WITH HOW MUCH CIVILITY ON THAT LADY S SIDE THE ACQUAINTANCE'"
     },
     "execution_count": 431,
     "metadata": {},
     "output_type": "execute_result"
    }
   ],
   "source": [
    "sequence_length = 100\n",
    "m = 9\n",
    "n_unique = len(unique_symbols)\n",
    "\n",
    "def probability_distribution(m, previous_sequence):\n",
    "    previous = tuple(previous_sequence)\n",
    "    f = frequencies_loaded[m][(*previous, slice(None))].todense() / total[m]\n",
    "\n",
    "    if all([x == 0 for x in f]): \n",
    "        f[:] = 1/total[m]\n",
    "        print('No probabilities')\n",
    "\n",
    "    return f / sum(f)\n",
    "\n",
    "def select_symbol(m, previous_sequence=[]):\n",
    "    if not m-1 == len(previous_sequence):\n",
    "        raise ValueError(f'previous_sequence must be of length m-1 ({m-1}), given was ({len(previous_sequence)})')\n",
    "    \n",
    "    p_distribution = probability_distribution(m, previous_sequence)\n",
    "    return np.random.choice(n_unique, p=p_distribution)\n",
    "\n",
    "sequence = []\n",
    "for i in range(1, sequence_length):\n",
    "    mc = min(i, m)\n",
    "    previous_sequence = sequence[-(m-1):] # Last m-1 indicies\n",
    "    selected = select_symbol(mc, previous_sequence)\n",
    "    sequence.append(selected)\n",
    "\n",
    "' '.join([unique_symbols[i] for i in sequence])"
   ]
  }
 ]
}