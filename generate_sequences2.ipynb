{
 "nbformat": 4,
 "nbformat_minor": 2,
 "metadata": {
  "language_info": {
   "name": "python",
   "codemirror_mode": {
    "name": "ipython",
    "version": 3
   },
   "version": "3.7.3-final"
  },
  "orig_nbformat": 2,
  "file_extension": ".py",
  "mimetype": "text/x-python",
  "name": "python",
  "npconvert_exporter": "python",
  "pygments_lexer": "ipython3",
  "version": 3,
  "kernelspec": {
   "name": "python37332bitf45678ab2b4a4c2cb6665081849d642c",
   "display_name": "Python 3.7.3 32-bit"
  }
 },
 "cells": [
  {
   "cell_type": "markdown",
   "metadata": {},
   "source": [
    "# Generate sequences"
   ]
  },
  {
   "cell_type": "code",
   "execution_count": 1,
   "metadata": {},
   "outputs": [],
   "source": [
    "import json\n",
    "import numpy as np\n",
    "from NDSparseTensor import NDSparseTensor"
   ]
  },
  {
   "cell_type": "markdown",
   "metadata": {},
   "source": [
    "## Read a NDSparseMatrix"
   ]
  },
  {
   "cell_type": "code",
   "execution_count": 2,
   "metadata": {},
   "outputs": [],
   "source": [
    "frequencies_loaded = {}\n",
    "text_name = 'Pride and Prejudice'\n",
    "for m in range(1, 10):\n",
    "    with open(f'frequencies/{text_name} m{m}.json', 'r', encoding=\"utf8\") as f:\n",
    "        json_text = f.read()\n",
    "\n",
    "        frequencies_loaded[m] = NDSparseTensor.fromjson(json_text)\n",
    "\n",
    "with open(f'frequencies/{text_name} unique symbols.json', 'r', encoding=\"utf-8\") as f:\n",
    "    unique_symbols = json.load(f)"
   ]
  },
  {
   "cell_type": "code",
   "execution_count": 3,
   "metadata": {},
   "outputs": [
    {
     "name": "stdout",
     "output_type": "stream",
     "text": "{1: 126221, 2: 126220, 3: 126219, 4: 126218, 5: 126217, 6: 126216, 7: 126215, 8: 126214, 9: 126213}\n"
    }
   ],
   "source": [
    "total = {}\n",
    "for m in range(1, 10):\n",
    "    tot = 0\n",
    "    for key, value in frequencies_loaded[m].getnonzero():\n",
    "        tot += value\n",
    "    total[m] = tot\n",
    "print(total)"
   ]
  },
  {
   "cell_type": "code",
   "execution_count": 6,
   "metadata": {},
   "outputs": [
    {
     "data": {
      "text/plain": "'INDIFFERENCE THAT SHE WOULD THINK HERSELF AT LIBERTY TO DO FOR THE LIMITED RIGHT OF REPLACEMENT OR REFUND DESCRIBED IN PARAGRAPH 1 F 3 THE PROJECT GUTENBERG TM PROJECT GUTENBERG TM WEB SITE WWW GUTENBERG ORG LICENSE SECTION 1 GENERAL TERMS OF PARTICULAR BUT OF COURSE HE WAS IN VERY GREAT BUT THEY FELT THAT SHE HAD BEEN A DAILY VISITOR AT LONGBOURN WHITHER HE WAS NOT HAPPY SHE STILL THOUGHT HIM SAID HER MOTHER TO VISIT HIM IF THERE WERE NOT WELCOMED HOME VERY CORDIALLY BY THEIR ADVICE AND ENTREATY OF SO MUCH ENGAGED IN WATCHING THE SENTINEL'"
     },
     "execution_count": 6,
     "metadata": {},
     "output_type": "execute_result"
    }
   ],
   "source": [
    "sequence_length = 20\n",
    "m = 3\n",
    "n_unique = len(unique_symbols)\n",
    "\n",
    "def probability_distribution(m, previous_sequence):\n",
    "    previous = tuple(previous_sequence)\n",
    "    f = frequencies_loaded[m][(*previous, slice(None))].normalize().todense() / total[m]\n",
    "\n",
    "    if all([x == 0 for x in f]): \n",
    "        f[:] = 1/total[m]\n",
    "        print('No probabilities')\n",
    "\n",
    "    return f / sum(f)\n",
    "\n",
    "def select_symbol(m, previous_sequence=[]):\n",
    "    if not m-1 == len(previous_sequence):\n",
    "        raise ValueError(f'previous_sequence must be of length m-1 ({m-1}), given was ({len(previous_sequence)})')\n",
    "    \n",
    "    p_distribution = probability_distribution(m, previous_sequence)\n",
    "    return np.random.choice(n_unique, p=p_distribution)\n",
    "\n",
    "sequence = []\n",
    "for i in range(1, sequence_length):\n",
    "    mc = min(i, m)\n",
    "    previous_sequence = sequence[-(m-1):] # Last m-1 indicies\n",
    "    selected = select_symbol(mc, previous_sequence)\n",
    "    sequence.append(selected)\n",
    "\n",
    "' '.join([unique_symbols[i] for i in sequence])"
   ]
  },
  {
   "cell_type": "code",
   "execution_count": null,
   "metadata": {},
   "outputs": [],
   "source": []
  }
 ]
}