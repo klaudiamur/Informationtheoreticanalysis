{
 "nbformat": 4,
 "nbformat_minor": 2,
 "metadata": {
  "language_info": {
   "name": "python",
   "codemirror_mode": {
    "name": "ipython",
    "version": 3
   },
   "version": "3.6.0-final"
  },
  "orig_nbformat": 2,
  "file_extension": ".py",
  "mimetype": "text/x-python",
  "name": "python",
  "npconvert_exporter": "python",
  "pygments_lexer": "ipython3",
  "version": 3,
  "kernelspec": {
   "name": "python36064bita6ac2e940ec942bf95dac71682dc350b",
   "display_name": "Python 3.6.0 64-bit"
  }
 },
 "cells": [
  {
   "cell_type": "markdown",
   "metadata": {},
   "source": [
    "# Download texts from Project Gutenberg "
   ]
  },
  {
   "cell_type": "code",
   "execution_count": 123,
   "metadata": {},
   "outputs": [],
   "source": [
    "# Network requests\n",
    "import requests\n",
    "\n",
    "# Regex text matching\n",
    "import re\n",
    "\n",
    "# Parsing HTML\n",
    "from bs4 import BeautifulSoup\n",
    "\n",
    "# File system management\n",
    "import os\n",
    "\n",
    "# Timer\n",
    "import timeit"
   ]
  },
  {
   "cell_type": "code",
   "execution_count": 120,
   "metadata": {},
   "outputs": [
    {
     "data": {
      "text/plain": "[('/ebooks/1342', 'Pride and Prejudice'),\n ('/ebooks/84', 'Frankenstein; Or, The Modern Prometheus'),\n ('/ebooks/1080', 'A Modest Proposal'),\n ('/ebooks/2542', 'Et dukkehjem. English'),\n ('/ebooks/25525', 'The Works of Edgar Allan Poe, The Raven Edition'),\n ('/ebooks/514', 'Little Women'),\n ('/ebooks/1635', 'Ion'),\n ('/ebooks/11', \"Alice's Adventures in Wonderland\"),\n ('/ebooks/844',\n  'The Importance of Being Earnest: A Trivial Comedy for Serious People'),\n ('/ebooks/98', 'A Tale of Two Cities'),\n ('/ebooks/215', 'The Call of the Wild'),\n ('/ebooks/2701', 'Moby Dick; Or, The Whale'),\n ('/ebooks/76', 'Adventures of Huckleberry Finn'),\n ('/ebooks/1952', 'The Yellow Wallpaper'),\n ('/ebooks/16328', 'Beowulf: An Anglo-Saxon Epic Poem'),\n ('/ebooks/408', 'The Souls of Black Folk'),\n ('/ebooks/205', 'Walden, and On The Duty Of Civil Disobedience'),\n ('/ebooks/5200', 'Metamorphosis'),\n ('/ebooks/160', 'The Awakening, and Selected Short Stories'),\n ('/ebooks/1661', 'The Adventures of Sherlock Holmes'),\n ('/ebooks/43', 'The Strange Case of Dr. Jekyll and Mr. Hyde'),\n ('/ebooks/345', 'Dracula'),\n ('/ebooks/58975', 'Index of Project Gutenberg Works on Black History'),\n ('/ebooks/16', 'Peter Pan'),\n ('/ebooks/219', 'Heart of Darkness')]"
     },
     "execution_count": 120,
     "metadata": {},
     "output_type": "execute_result"
    }
   ],
   "source": [
    "page_index = 0 # Starts from 0\n",
    "base_url = f'http://www.gutenberg.org'\n",
    "book_page_extension = f'/ebooks/search/?sort_order=downloads&start_index={1+25*page_index}'\n",
    "index = requests.get(base_url+book_page_extension).text\n",
    "soup_index = BeautifulSoup(index, 'html.parser')\n",
    "\n",
    "# Find the links that are dates of dumps\n",
    "links = [(a['href'], a.contents[3].text.split(\"\\n\")[1].strip()) for a in soup_index.find_all('a') if \n",
    "         a.has_attr('href') and re.match(r\"\\/ebooks\\/[0-9]+\", a['href'], re.DOTALL)]\n",
    "links[:5]"
   ]
  },
  {
   "cell_type": "code",
   "execution_count": 113,
   "metadata": {},
   "outputs": [],
   "source": [
    "def download(link):\n",
    "    link_html = requests.get(base_url+link).text\n",
    "    soup_link = BeautifulSoup(link_html, 'html.parser')\n",
    "    \n",
    "    text_links = [a['href'] for a in soup_link.find_all('a') if a.has_attr('href') and re.match(r\"\\/files\\/[0-9]+\\/([0-9a-zA-Z\\.-])+txt\", a['href'])]\n",
    "\n",
    "    book_text_link = text_links[0]\n",
    "    book_text = requests.get(base_url+book_text_link).text\n",
    "    return book_text\n",
    "\n",
    "def save(text, filename, folder='books'):\n",
    "    if not os.path.exists(folder):\n",
    "        os.mkdir(folder)\n",
    "    with open(folder+'/'+filename+'.txt', 'w', encoding='utf') as f:\n",
    "        f.writelines(text)"
   ]
  },
  {
   "cell_type": "code",
   "execution_count": 124,
   "metadata": {},
   "outputs": [
    {
     "name": "stdout",
     "output_type": "stream",
     "text": "Downloaded 25 links in 32.42083144187927 seconds. All texts saved in the folder books\n"
    }
   ],
   "source": [
    "folder = 'books'\n",
    "\n",
    "start = timeit.time.time()\n",
    "for link, book_name in links:\n",
    "    try:\n",
    "        text = download(link)\n",
    "    except Exception:\n",
    "        pass\n",
    "    save(text, book_name, folder)\n",
    "\n",
    "end = timeit.time.time()\n",
    "\n",
    "print(f'Downloaded {len(links)} links in {end-start} seconds. All texts saved in the folder {folder}')"
   ]
  }
 ]
}