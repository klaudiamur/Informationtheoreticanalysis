{
 "nbformat": 4,
 "nbformat_minor": 2,
 "metadata": {
  "language_info": {
   "name": "python",
   "codemirror_mode": {
    "name": "ipython",
    "version": 3
   },
   "version": "3.7.4-final"
  },
  "orig_nbformat": 2,
  "file_extension": ".py",
  "mimetype": "text/x-python",
  "name": "python",
  "npconvert_exporter": "python",
  "pygments_lexer": "ipython3",
  "version": 3,
  "kernelspec": {
   "name": "python37464bitanaconda3virtualenv9942b1585bd741a391fb68aff40a0332",
   "display_name": "Python 3.7.4 64-bit ('anaconda3': virtualenv)"
  }
 },
 "cells": [
  {
   "cell_type": "code",
   "execution_count": 7,
   "metadata": {},
   "outputs": [],
   "source": [
    "# inputs: probability(xIy)\n",
    "# randomly pick n words\n",
    "# choose between list of words based on their probability\n",
    "# for n= 1:\n",
    "import json\n",
    "text_name= 'Pride and Prejudice'\n",
    "with open(f'frequencies/{text_name}.json', 'r', encoding=\"utf8\") as f:\n",
    "    frequencies=json.load(f)\n",
    "\n",
    "   \n"
   ]
  },
  {
   "cell_type": "code",
   "execution_count": 31,
   "metadata": {},
   "outputs": [
    {
     "name": "stdout",
     "output_type": "stream",
     "text": "PRIDE\n"
    }
   ],
   "source": [
    "frequencies['THE']\n",
    "symbol_list = list(frequencies.keys())"
   ]
  },
  {
   "cell_type": "code",
   "execution_count": 21,
   "metadata": {},
   "outputs": [
    {
     "name": "stdout",
     "output_type": "stream",
     "text": "{'DISPLAY'} {4}\n"
    }
   ],
   "source": [
    " import random\n",
    " random_word = random.choice(list(frequencies.keys()))\n",
    " probability_random_word = frequencies[random_word]\n",
    " print({random_word},{probability_random_word})"
   ]
  },
  {
   "cell_type": "code",
   "execution_count": 33,
   "metadata": {},
   "outputs": [
    {
     "name": "stdout",
     "output_type": "stream",
     "text": "2190 2191\nRESOLVED PANEGYRIC\n"
    }
   ],
   "source": [
    "from random import randrange\n",
    "random_index = randrange(len(symbol_list))\n",
    "\n",
    "# two words:\n",
    "second_index=random_index + 1\n",
    "print(random_index,second_index)\n",
    "print(symbol_list[random_index],symbol_list[second_index])"
   ]
  },
  {
   "cell_type": "code",
   "execution_count": 53,
   "metadata": {},
   "outputs": [
    {
     "name": "stdout",
     "output_type": "stream",
     "text": "6293\nMISERIES\n6294\nWEAKEST\n6295\nSOLID\n6296\nREASONING\n"
    }
   ],
   "source": [
    "# n words\n",
    "n = 5\n",
    "first_index=randrange(len(symbol_list))\n",
    "symbol_index = []\n",
    "for x in range(1,n):\n",
    "    index=first_index + x\n",
    "    symbol_index.append(index)\n",
    "    print(index)\n",
    "    print(symbol_list[index])\n",
    "\n",
    "\n",
    "\n"
   ]
  },
  {
   "cell_type": "code",
   "execution_count": null,
   "metadata": {},
   "outputs": [],
   "source": [
    "# probability to add next\n",
    "# given previous sequence, pick next word according to probability to occur there"
   ]
  }
 ]
}