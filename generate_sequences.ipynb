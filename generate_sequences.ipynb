{
 "nbformat": 4,
 "nbformat_minor": 2,
 "metadata": {
  "language_info": {
   "name": "python",
   "codemirror_mode": {
    "name": "ipython",
    "version": 3
   },
   "version": "3.7.4-final"
  },
  "orig_nbformat": 2,
  "file_extension": ".py",
  "mimetype": "text/x-python",
  "name": "python",
  "npconvert_exporter": "python",
  "pygments_lexer": "ipython3",
  "version": 3,
  "kernelspec": {
   "name": "python37464bitanaconda3virtualenv9942b1585bd741a391fb68aff40a0332",
   "display_name": "Python 3.7.4 64-bit ('anaconda3': virtualenv)"
  }
 },
 "cells": [
  {
   "cell_type": "code",
   "execution_count": 38,
   "metadata": {},
   "outputs": [],
   "source": [
    "# inputs: probability(xIy)\n",
    "# randomly pick n words\n",
    "# choose between list of words based on their probability\n",
    "# for n= 1:\n",
    "from NDSparseTensor import NDSparseTensor\n",
    "\n",
    "   \n"
   ]
  },
  {
   "cell_type": "code",
   "execution_count": 45,
   "metadata": {},
   "outputs": [],
   "source": [
    "frequencies_loaded = {}\n",
    "text_name= 'Pride and Prejudice'\n",
    "for m in range(1, 10):\n",
    "    with open(f'frequencies/{text_name} m{m}.json', 'r', encoding=\"utf8\") as f:\n",
    "        json_text = f.read()\n",
    "\n",
    "        frequencies_loaded[m] = NDSparseTensor.fromjson(json_text)"
   ]
  },
  {
   "cell_type": "code",
   "execution_count": 49,
   "metadata": {},
   "outputs": [
    {
     "name": "stdout",
     "output_type": "stream",
     "text": "66\n"
    }
   ],
   "source": [
    "m = 2\n",
    "i1 = 9\n",
    "i2 = 8\n",
    "print(frequencies_loaded[m][5, i2])"
   ]
  },
  {
   "cell_type": "code",
   "execution_count": 40,
   "metadata": {},
   "outputs": [
    {
     "ename": "NameError",
     "evalue": "name 'unique_symbols' is not defined",
     "output_type": "error",
     "traceback": [
      "\u001b[0;31m---------------------------------------------------------------------------\u001b[0m",
      "\u001b[0;31mNameError\u001b[0m                                 Traceback (most recent call last)",
      "\u001b[0;32m<ipython-input-40-6cd711c1cad5>\u001b[0m in \u001b[0;36m<module>\u001b[0;34m\u001b[0m\n\u001b[1;32m      2\u001b[0m \u001b[0mi1\u001b[0m \u001b[0;34m=\u001b[0m \u001b[0;36m9\u001b[0m\u001b[0;34m\u001b[0m\u001b[0;34m\u001b[0m\u001b[0m\n\u001b[1;32m      3\u001b[0m \u001b[0mi2\u001b[0m \u001b[0;34m=\u001b[0m \u001b[0;36m8\u001b[0m\u001b[0;34m\u001b[0m\u001b[0;34m\u001b[0m\u001b[0m\n\u001b[0;32m----> 4\u001b[0;31m \u001b[0mprint\u001b[0m\u001b[0;34m(\u001b[0m\u001b[0;34mf\"Sequence '{i1} {i2}': '{unique_symbols[i1]} {unique_symbols[i2]}' occurs {frequencies[m][i1, i2]} times\"\u001b[0m\u001b[0;34m)\u001b[0m\u001b[0;34m\u001b[0m\u001b[0;34m\u001b[0m\u001b[0m\n\u001b[0m\u001b[1;32m      5\u001b[0m \u001b[0;34m\u001b[0m\u001b[0m\n\u001b[1;32m      6\u001b[0m \u001b[0mm\u001b[0m \u001b[0;34m=\u001b[0m \u001b[0;36m3\u001b[0m\u001b[0;34m\u001b[0m\u001b[0;34m\u001b[0m\u001b[0m\n",
      "\u001b[0;31mNameError\u001b[0m: name 'unique_symbols' is not defined"
     ]
    }
   ],
   "source": [
    "m = 2\n",
    "i1 = 9\n",
    "i2 = 8\n",
    "print(f\"Sequence '{i1} {i2}': '{unique_symbols[i1]} {unique_symbols[i2]}' occurs {frequencies[m][i1, i2]} times\")\n",
    "\n",
    "m = 3\n",
    "i1 = 9\n",
    "i2 = 8\n",
    "i3 = 0\n",
    "print(f\"Sequence '{i1} {i2} {i3}': '{unique_symbols[i1]} {unique_symbols[i2]} {unique_symbols[i3]}' occurs {frequencies[m][i1, i2, i3]} times\")\n",
    "    "
   ]
  },
  {
   "cell_type": "code",
   "execution_count": 34,
   "metadata": {},
   "outputs": [
    {
     "ename": "SyntaxError",
     "evalue": "invalid syntax (<ipython-input-34-d0c3da3c94a9>, line 1)",
     "output_type": "error",
     "traceback": [
      "\u001b[0;36m  File \u001b[0;32m\"<ipython-input-34-d0c3da3c94a9>\"\u001b[0;36m, line \u001b[0;32m1\u001b[0m\n\u001b[0;31m    print((Matrix_name[5 3]))\u001b[0m\n\u001b[0m                         ^\u001b[0m\n\u001b[0;31mSyntaxError\u001b[0m\u001b[0;31m:\u001b[0m invalid syntax\n"
     ]
    }
   ],
   "source": [
    "print((Matrix_name[5 3]))\n"
   ]
  },
  {
   "cell_type": "code",
   "execution_count": 21,
   "metadata": {},
   "outputs": [
    {
     "name": "stdout",
     "output_type": "stream",
     "text": "{'DISPLAY'} {4}\n"
    }
   ],
   "source": [
    " import random\n",
    " random_word = random.choice(list(frequencies.keys())) \n",
    " probability_random_word = frequencies[random_word]\n",
    " print({random_word},{probability_random_word})"
   ]
  },
  {
   "cell_type": "code",
   "execution_count": 33,
   "metadata": {},
   "outputs": [
    {
     "name": "stdout",
     "output_type": "stream",
     "text": "2190 2191\nRESOLVED PANEGYRIC\n"
    }
   ],
   "source": [
    "from random import randrange\n",
    "random_index = randrange(len(symbol_list))\n",
    "\n",
    "# two words:\n",
    "second_index=random_index + 1\n",
    "print(random_index,second_index)\n",
    "print(symbol_list[random_index],symbol_list[second_index])"
   ]
  },
  {
   "cell_type": "code",
   "execution_count": 53,
   "metadata": {},
   "outputs": [
    {
     "name": "stdout",
     "output_type": "stream",
     "text": "6293\nMISERIES\n6294\nWEAKEST\n6295\nSOLID\n6296\nREASONING\n"
    }
   ],
   "source": [
    "# n words\n",
    "n = 5\n",
    "first_index=randrange(len(symbol_list)) \n",
    "symbol_index = []\n",
    "for x in range(1,n):\n",
    "    index=first_index + x\n",
    "    symbol_index.append(index)\n",
    "    print(index)\n",
    "    print(symbol_list[index])\n",
    "\n",
    "\n",
    "\n"
   ]
  },
  {
   "cell_type": "code",
   "execution_count": null,
   "metadata": {},
   "outputs": [],
   "source": [
    "# probability to add next\n",
    "# given previous sequence, pick next word according to probability to occur there"
   ]
  },
  {
   "cell_type": "code",
   "execution_count": null,
   "metadata": {},
   "outputs": [],
   "source": [
    "# Km\n",
    "# Km= sum(over m-matrix)(p(x1,xm))*sum(over m+1-matrix)(p(x))\n",
    "\n",
    "\n",
    "\n",
    "\n"
   ]
  }
 ]
}