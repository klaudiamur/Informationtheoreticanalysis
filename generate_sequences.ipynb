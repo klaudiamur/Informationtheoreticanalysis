{
 "nbformat": 4,
 "nbformat_minor": 2,
 "metadata": {
  "language_info": {
   "name": "python",
   "codemirror_mode": {
    "name": "ipython",
    "version": 3
   },
   "version": "3.7.4-final"
  },
  "orig_nbformat": 2,
  "file_extension": ".py",
  "mimetype": "text/x-python",
  "name": "python",
  "npconvert_exporter": "python",
  "pygments_lexer": "ipython3",
  "version": 3,
  "kernelspec": {
   "name": "python37464bitanaconda3virtualenv9942b1585bd741a391fb68aff40a0332",
   "display_name": "Python 3.7.4 64-bit ('anaconda3': virtualenv)"
  }
 },
 "cells": [
  {
   "cell_type": "code",
   "execution_count": 239,
   "metadata": {},
   "outputs": [],
   "source": [
    "# inputs: probability(xIy)\n",
    "# randomly pick n words\n",
    "# choose between list of words based on their probability\n",
    "# for n= 1:\n",
    "from NDSparseTensor import NDSparseTensor\n",
    "import json\n",
    "import numpy as np\n",
    "from numpy.random import choice  \n"
   ]
  },
  {
   "cell_type": "code",
   "execution_count": 163,
   "metadata": {},
   "outputs": [],
   "source": [
    "frequencies_loaded = {}\n",
    "text_name= 'Pride and Prejudice'\n",
    "for m in range(1, 10):\n",
    "    with open(f'frequencies/{text_name} m{m}.json', 'r', encoding=\"utf8\") as f:\n",
    "        json_text = f.read()\n",
    "\n",
    "        frequencies_loaded[m] = NDSparseTensor.fromjson(json_text)\n",
    "\n",
    "with open('unique_symbols.json','r') as f:\n",
    "    unique_symbols=json.load(f)\n"
   ]
  },
  {
   "cell_type": "code",
   "execution_count": 324,
   "metadata": {},
   "outputs": [
    {
     "name": "stdout",
     "output_type": "stream",
     "text": "3730\n(1,)\n[(66,)]\n"
    },
    {
     "ename": "TypeError",
     "evalue": "list indices must be integers or slices, not list",
     "output_type": "error",
     "traceback": [
      "\u001b[0;31m---------------------------------------------------------------------------\u001b[0m",
      "\u001b[0;31mTypeError\u001b[0m                                 Traceback (most recent call last)",
      "\u001b[0;32m<ipython-input-324-a7c17683cbfb>\u001b[0m in \u001b[0;36m<module>\u001b[0;34m\u001b[0m\n\u001b[1;32m     23\u001b[0m \u001b[0mprint\u001b[0m\u001b[0;34m(\u001b[0m\u001b[0mkeys\u001b[0m\u001b[0;34m[\u001b[0m\u001b[0;36m1\u001b[0m\u001b[0;34m]\u001b[0m\u001b[0;34m)\u001b[0m\u001b[0;34m\u001b[0m\u001b[0;34m\u001b[0m\u001b[0m\n\u001b[1;32m     24\u001b[0m \u001b[0mprint\u001b[0m\u001b[0;34m(\u001b[0m\u001b[0mnext_word\u001b[0m\u001b[0;34m)\u001b[0m\u001b[0;34m\u001b[0m\u001b[0;34m\u001b[0m\u001b[0m\n\u001b[0;32m---> 25\u001b[0;31m \u001b[0mprint\u001b[0m\u001b[0;34m(\u001b[0m\u001b[0;34mf\"The first word is {unique_symbols[row]}. The second word is {unique_symbols[next_word]}\"\u001b[0m\u001b[0;34m)\u001b[0m\u001b[0;34m\u001b[0m\u001b[0;34m\u001b[0m\u001b[0m\n\u001b[0m",
      "\u001b[0;31mTypeError\u001b[0m: list indices must be integers or slices, not list"
     ]
    }
   ],
   "source": [
    "\n",
    "row=2\n",
    "freq=frequencies[2][row,:].getnonzero()\n",
    "\n",
    "keys = list([x[0] for x in freq])\n",
    "values = list([x[1] for x in freq])\n",
    "\n",
    "M=(len(values))\n",
    "previous = 0\n",
    "for x in range(0,M):\n",
    "    total = values[x]+previous\n",
    "    previous = total\n",
    "print(total)\n",
    "\n",
    "percentage = []\n",
    "for x in range(0,M):\n",
    "    p=values[x]/total\n",
    "    percentage.append(p)\n",
    "\n",
    "next_word=random.choices(\n",
    "    keys,\n",
    "    percentage,\n",
    "    )\n",
    "print(keys[1])\n",
    "print(next_word)\n",
    "print(f\"The first word is {unique_symbols[row]}. The second word is {unique_symbols[next_word]}\")\n"
   ]
  }
 ]
}